{
 "cells": [
  {
   "cell_type": "markdown",
   "id": "5c7dce0d",
   "metadata": {
    "editable": true,
    "slideshow": {
     "slide_type": "slide"
    },
    "tags": []
   },
   "source": [
    "# LPRNet - License Plate Recognition Network\n",
    "## Nhận diện biển số xe bằng Deep Learning\n"
   ]
  },
  {
   "cell_type": "markdown",
   "id": "c8a95ac9",
   "metadata": {
    "editable": true,
    "jp-MarkdownHeadingCollapsed": true,
    "slideshow": {
     "slide_type": "slide"
    },
    "tags": []
   },
   "source": [
    "## Bối cảnh\n",
    "- Nhu cầu quản lý phương tiện ngày càng tăng\n",
    "- Hệ thống bãi giữ xe, trạm thu phí, camera giao thông\n",
    "- Thách thức: \n",
    "  - Góc nhìn khác nhau\n",
    "  - Biển số bị mờ/che khuất\n",
    "  - Nhiều font chữ, nền\n"
   ]
  },
  {
   "cell_type": "markdown",
   "id": "302a5d9c",
   "metadata": {
    "editable": true,
    "slideshow": {
     "slide_type": "slide"
    },
    "tags": []
   },
   "source": [
    "## LPRNet là gì?\n",
    "- Mô hình Deep Neural Network do Baidu giới thiệu\n",
    "- Thực hiện nhận dạng trực tiếp biển số từ ảnh đầu vào\n",
    "- Không cần phân đoạn ký tự riêng lẻ\n",
    "- Dựa trên CNN kết hợp với Connectionist Temporal Classification (CTC)\n"
   ]
  },
  {
   "cell_type": "markdown",
   "id": "dc2dbb9d",
   "metadata": {
    "editable": true,
    "slideshow": {
     "slide_type": ""
    },
    "tags": []
   },
   "source": [
    "## Kiến trúc LPRNet\n",
    "- Backbone: CNN (trích xuất đặc trưng)\n",
    "- Feature Map → Global Context Embedding\n",
    "- Output: Chuỗi ký tự biển số\n",
    "- Huấn luyện với hàm loss CTC\n"
   ]
  },
  {
   "cell_type": "markdown",
   "id": "1a4e910f",
   "metadata": {
    "editable": true,
    "slideshow": {
     "slide_type": "slide"
    },
    "tags": []
   },
   "source": [
    "## Quy trình hoạt động\n",
    "1. Ảnh biển số đầu vào\n",
    "2. CNN trích xuất đặc trưng\n",
    "3. Biểu diễn đặc trưng toàn cục\n",
    "4. Dự đoán chuỗi ký tự\n",
    "5. Giải mã bằng CTC Decoder\n"
   ]
  },
  {
   "cell_type": "markdown",
   "id": "acd436dc",
   "metadata": {
    "editable": true,
    "slideshow": {
     "slide_type": "slide"
    },
    "tags": []
   },
   "source": [
    "## Ưu điểm của LPRNet\n",
    "- Nhận dạng trực tiếp, không cần tách ký tự\n",
    "- Nhanh, phù hợp thời gian thực\n",
    "- Độ chính xác cao với biển số chuẩn\n"
   ]
  },
  {
   "cell_type": "markdown",
   "id": "7920b584",
   "metadata": {
    "editable": true,
    "slideshow": {
     "slide_type": "slide"
    },
    "tags": []
   },
   "source": [
    "## Ứng dụng\n",
    "- Hệ thống giao thông thông minh\n",
    "- Trạm thu phí tự động\n",
    "- Quản lý bãi xe\n",
    "- Giám sát an ninh\n"
   ]
  },
  {
   "cell_type": "markdown",
   "id": "9b8b56aa",
   "metadata": {
    "editable": true,
    "slideshow": {
     "slide_type": "slide"
    },
    "tags": []
   },
   "source": [
    "## Kết luận\n",
    "- LPRNet là giải pháp hiệu quả cho bài toán nhận dạng biển số\n",
    "- Kết hợp Deep Learning và CTC\n",
    "- Mở ra ứng dụng thực tiễn rộng rãi\n"
   ]
  },
  {
   "cell_type": "markdown",
   "id": "b46d09ee",
   "metadata": {},
   "source": []
  }
 ],
 "metadata": {
  "kernelspec": {
   "display_name": "Python 3 (ipykernel)",
   "language": "python",
   "name": "python3"
  },
  "language_info": {
   "codemirror_mode": {
    "name": "ipython",
    "version": 3
   },
   "file_extension": ".py",
   "mimetype": "text/x-python",
   "name": "python",
   "nbconvert_exporter": "python",
   "pygments_lexer": "ipython3",
   "version": "3.11.13"
  },
  "toc": {
   "base_numbering": 1
  }
 },
 "nbformat": 4,
 "nbformat_minor": 5
}
